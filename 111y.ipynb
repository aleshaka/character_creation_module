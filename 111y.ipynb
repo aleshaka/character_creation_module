{
 "cells": [
  {
   "cell_type": "code",
   "execution_count": 14,
   "metadata": {
    "collapsed": true
   },
   "outputs": [
    {
     "name": "stdout",
     "output_type": "stream",
     "text": [
      "Добро пожаловать в самую лучшую программу для вычисления квадратного корня из заданного числа\n",
      "Мы вычислили квадратный корень из введённого вами числа. Это будет: 5.049752469181039\n"
     ]
    }
   ],
   "source": [
    "from math import sqrt\n",
    "\n",
    "\n",
    "def calculate_square_root(num):\n",
    "    \"\"\"Вычисляет квадратный корень.\"\"\"\n",
    "    return sqrt(num)\n",
    "\n",
    "\n",
    "def calc(your_number):\n",
    "    \"\"\"if.\"\"\"\n",
    "    if your_number <= 0:\n",
    "        return\n",
    "    root = calculate_square_root(your_number)\n",
    "    sms = (f'Мы вычислили квадратный корень из введённого вами числа. '\n",
    "           f'Это будет: {root}')\n",
    "    print(sms)\n",
    "\n",
    "\n",
    "message = ('Добро пожаловать в самую лучшую программу для вычисления '\n",
    "           'квадратного корня из заданного числа')\n",
    "print(message)\n",
    "\n",
    "calc(25.5)"
   ]
  },
  {
   "cell_type": "code",
   "execution_count": null,
   "outputs": [],
   "source": [],
   "metadata": {
    "collapsed": false
   }
  }
 ],
 "metadata": {
  "kernelspec": {
   "display_name": "Python 3",
   "language": "python",
   "name": "python3"
  },
  "language_info": {
   "codemirror_mode": {
    "name": "ipython",
    "version": 2
   },
   "file_extension": ".py",
   "mimetype": "text/x-python",
   "name": "python",
   "nbconvert_exporter": "python",
   "pygments_lexer": "ipython2",
   "version": "2.7.6"
  }
 },
 "nbformat": 4,
 "nbformat_minor": 0
}
